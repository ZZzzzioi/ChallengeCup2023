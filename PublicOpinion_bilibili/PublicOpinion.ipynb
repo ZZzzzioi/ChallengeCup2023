{
 "cells": [
  {
   "cell_type": "code",
   "execution_count": null,
   "metadata": {},
   "outputs": [],
   "source": [
    "# -*- coding: utf-8 -*-\n",
    "\"\"\"\n",
    "Created on 2023.06.06\n",
    "@author: Zisheng Ji\n",
    "\"\"\""
   ]
  },
  {
   "attachments": {},
   "cell_type": "markdown",
   "metadata": {},
   "source": [
    "以“光伏骗局”为搜索关键词，按点击量排序，选取点击量超过10万的视频，抓取评论区文本，进行词频和聚类分析，绘制词云图等"
   ]
  },
  {
   "cell_type": "code",
   "execution_count": null,
   "metadata": {},
   "outputs": [],
   "source": [
    "import json\n",
    "import requests\n",
    "import math\n",
    "import time\n",
    "import random\n",
    "import pandas as pd\n",
    "import numpy as np\n",
    "import jieba\n",
    "import re\n",
    "import collections\n",
    "from stylecloud import gen_stylecloud\n",
    "from sklearn.feature_extraction.text import CountVectorizer\n",
    "from sklearn.feature_extraction.text import TfidfTransformer\n",
    "from gensim.models.coherencemodel import CoherenceModel\n",
    "from gensim.models.ldamodel import LdaModel\n",
    "from gensim import corpora\n",
    "import matplotlib.pyplot as plt\n",
    "import matplotlib\n",
    "from matplotlib.pyplot import MultipleLocator\n",
    "import lda"
   ]
  },
  {
   "attachments": {},
   "cell_type": "markdown",
   "metadata": {},
   "source": [
    "1.抓取评论文本，抓取字段包括用户名、发布时间、发布内容、点赞数"
   ]
  },
  {
   "cell_type": "code",
   "execution_count": null,
   "metadata": {},
   "outputs": [],
   "source": [
    "header = {\n",
    "    \"user-agent\": \"Mozilla/5.0 (Windows NT 10.0; Win64; x64) AppleWebKit/537.36 (KHTML, like Gecko) Chrome/114.0.0.0 Safari/537.36\"\n",
    "}"
   ]
  },
  {
   "cell_type": "code",
   "execution_count": null,
   "metadata": {},
   "outputs": [],
   "source": [
    "def getAID(bvid):\n",
    "    url = \"http://api.bilibili.com/x/web-interface/view?bvid={bvid}\".format(bvid=bvid)\n",
    "    response = requests.get(url, headers=header)\n",
    "    dirt = json.loads(response.text)\n",
    "    aid = dirt['data']['aid']\n",
    "    return aid\n",
    "\n",
    "def getReplyPageNum(Aid):\n",
    "    url=\"https://api.bilibili.com/x/v2/reply?&jsonp=jsonp&pn=1\"+\"&type=1&oid={}&sort=2\".format(Aid)\n",
    "    respond=requests.get(url)\n",
    "    res_dirct=json.loads(respond.text)\n",
    "    replyPageCount=int(res_dirct['data']['page']['count'])\n",
    "    replyPageSize=int(res_dirct['data']['page']['size'])\n",
    "    replyPageNum=math.ceil(replyPageCount/replyPageSize)\n",
    "    return replyPageNum, replyPageSize\n",
    "\n",
    "def getReplyContent(Aid, page):\n",
    "    url = \"https://api.bilibili.com/x/v2/reply/main?jsonp=jsonp&next={page}&type=1&oid={Aid}&mode=3\".format(Aid=Aid, page=page)\n",
    "    response = requests.get(url, headers=header)\n",
    "    dirt = json.loads(response.text)\n",
    "    ReplyData = dirt['data']['replies']\n",
    "    return ReplyData"
   ]
  },
  {
   "cell_type": "code",
   "execution_count": null,
   "metadata": {},
   "outputs": [],
   "source": [
    "bvid_list = ['BV1hS4y1d78x', 'BV1mT411v7EL', 'BV1YF411a7An', 'BV1t7411b79y', 'BV1C94y1X7kV']\n",
    "avid_list = [getAID(bvid) for bvid in bvid_list]"
   ]
  },
  {
   "cell_type": "code",
   "execution_count": null,
   "metadata": {},
   "outputs": [],
   "source": [
    "# 视频显示评论数包括了对评论的回复，因此实际所得评论少于视频下方显示的评论数\n",
    "data_lists = list()\n",
    "for avid in avid_list:\n",
    "    replyPageNum, replyPageSize = getReplyPageNum(avid)\n",
    "    for page in range(replyPageNum):\n",
    "        replyData = getReplyContent(avid, page)\n",
    "        time.sleep(random.randint(1, 3))\n",
    "        for i in range(len(replyData)):\n",
    "            username = replyData[i]['member']['uname']\n",
    "            like = replyData[i]['like']\n",
    "            content = replyData[i]['content']['message']\n",
    "            ctime = time.strftime(\"%Y-%m-%d %H:%M:%S\", time.localtime(replyData[i]['ctime']))\n",
    "            data_lists.append([username, like, content, ctime])\n",
    "        print(avid, page)"
   ]
  },
  {
   "cell_type": "code",
   "execution_count": null,
   "metadata": {},
   "outputs": [],
   "source": [
    "name = ['username', 'like', 'content', 'ctime']\n",
    "data_pd = pd.DataFrame(data=data_lists, columns=name)\n",
    "data_pd.to_csv('./PublicOpinion.csv')\n",
    "data_pd.to_excel('./PublicOpinion.xlsx')"
   ]
  },
  {
   "attachments": {},
   "cell_type": "markdown",
   "metadata": {},
   "source": [
    "2.对文本进行词频分析"
   ]
  },
  {
   "cell_type": "code",
   "execution_count": null,
   "metadata": {},
   "outputs": [],
   "source": [
    "jieba.load_userdict(\"./dict/SogouLabDic.txt\")\n",
    "jieba.load_userdict(\"./dict/dict_baidu_utf8.txt\")\n",
    "jieba.load_userdict(\"./dict/dict_pangu.txt\")\n",
    "jieba.load_userdict(\"./dict/dict_sougou_utf8.txt\")\n",
    "jieba.load_userdict(\"./dict/dict_tencent_utf8.txt\")\n",
    "StopWords = './dict/Stopword.txt'\n",
    "AnalysisText = 'Comment.txt'"
   ]
  },
  {
   "cell_type": "code",
   "execution_count": null,
   "metadata": {},
   "outputs": [],
   "source": [
    "stopwords = {}.fromkeys([ line.rstrip() for line in open('./dict/Stopword.txt') ])"
   ]
  },
  {
   "cell_type": "code",
   "execution_count": null,
   "metadata": {},
   "outputs": [],
   "source": [
    "Data = pd.read_csv('PublicOpinion.csv')\n",
    "CommentData = Data['content']\n",
    "CommentFile = CommentData.to_csv('Comment.txt', index=False)\n",
    "string_list = list(Data['content'])"
   ]
  },
  {
   "cell_type": "code",
   "execution_count": null,
   "metadata": {},
   "outputs": [],
   "source": [
    "with open(StopWords, 'r', encoding='UTF-8') as meaninglessFile:\n",
    "    stopwords = set(meaninglessFile.read().split('\\n'))\n",
    "stopwords.add(' ')"
   ]
  },
  {
   "cell_type": "code",
   "execution_count": null,
   "metadata": {},
   "outputs": [],
   "source": [
    "object_list = list()\n",
    "for string in string_list:\n",
    "    pattern = re.compile(u'\\t|\\n|\\.|-|:|;|\\)|\\(|\\?|\"')\n",
    "    string_re = re.sub(pattern, '', string)\n",
    "    string_re = string_re.replace('\\n', '')\n",
    "\n",
    "    string_seg = jieba.cut(string_re, cut_all=False, HMM=True)\n",
    "\n",
    "    string_seg_stopwords = [word for word in string_seg if word not in stopwords]\n",
    "\n",
    "    object_list.append(string_seg_stopwords)\n"
   ]
  },
  {
   "cell_type": "code",
   "execution_count": null,
   "metadata": {},
   "outputs": [],
   "source": [
    "object_list_all = [j for i in object_list for j in i]"
   ]
  },
  {
   "cell_type": "code",
   "execution_count": null,
   "metadata": {},
   "outputs": [],
   "source": [
    "word_counts = collections.Counter(object_list_all)\n",
    "#word_counts_top = word_counts.most_common(101)\n",
    "word_counts_list = list(word_counts.items())"
   ]
  },
  {
   "cell_type": "code",
   "execution_count": null,
   "metadata": {},
   "outputs": [],
   "source": [
    "name = ['word', 'count']\n",
    "word_counts_top_pd = pd.DataFrame(data=word_counts_list, columns=name)\n",
    "#word_counts_top_pd = word_counts_top_pd.drop(46) # 删除 \\xa0\n",
    "word_counts_top_pd.to_csv('./WordCount.csv', index=False)"
   ]
  },
  {
   "attachments": {},
   "cell_type": "markdown",
   "metadata": {},
   "source": [
    "3.绘制词云图"
   ]
  },
  {
   "cell_type": "code",
   "execution_count": null,
   "metadata": {},
   "outputs": [],
   "source": [
    "gen_stylecloud(\n",
    "    file_path='./WordCount.csv',\n",
    "    size=600,\n",
    "    font_path=r'./dict/Songti.ttc',\n",
    "    output_name='wordcloud_solar.png',\n",
    "    icon_name='fas fa-sun',\n",
    ")"
   ]
  },
  {
   "attachments": {},
   "cell_type": "markdown",
   "metadata": {},
   "source": [
    "4.聚类分析"
   ]
  },
  {
   "cell_type": "code",
   "execution_count": null,
   "metadata": {},
   "outputs": [],
   "source": [
    "# 导出分词文本\n",
    "object_cut = [' '.join(i) for i in object_list]\n",
    "object_cut_pd = pd.DataFrame(object_cut)\n",
    "object_cut_pd.to_csv('./Comment_LDA.txt', index=False, header=0)"
   ]
  },
  {
   "cell_type": "code",
   "execution_count": null,
   "metadata": {},
   "outputs": [],
   "source": [
    "corpus_cut = []  \n",
    "for line in open('Comment_LDA.txt', 'r').readlines():  \n",
    "    corpus_cut.append(line.strip())"
   ]
  },
  {
   "cell_type": "code",
   "execution_count": null,
   "metadata": {},
   "outputs": [],
   "source": [
    "vectorizer = CountVectorizer()\n",
    "\n",
    "X = vectorizer.fit_transform(corpus_cut)\n",
    "\n",
    "word = vectorizer.get_feature_names_out()"
   ]
  },
  {
   "cell_type": "code",
   "execution_count": null,
   "metadata": {},
   "outputs": [],
   "source": [
    "transformer = TfidfTransformer()\n",
    "tfidf = transformer.fit_transform(X)\n",
    "weight = tfidf.toarray()"
   ]
  },
  {
   "attachments": {},
   "cell_type": "markdown",
   "metadata": {},
   "source": [
    "计算类别数量"
   ]
  },
  {
   "cell_type": "code",
   "execution_count": null,
   "metadata": {},
   "outputs": [],
   "source": [
    "dictionary = corpora.Dictionary(object_list)  # 构建词典\n",
    "corpus = [dictionary.doc2bow(text) for text in object_list]\n",
    "\n",
    "def coherence(num_topics):\n",
    "    ldamodel = LdaModel(corpus, num_topics=num_topics, id2word = dictionary, passes=30,random_state = 1)\n",
    "    print(ldamodel.print_topics(num_topics=num_topics, num_words=10))\n",
    "    ldacm = CoherenceModel(model=ldamodel, texts=object_list, dictionary=dictionary, coherence='c_v')\n",
    "    print(ldacm.get_coherence())\n",
    "    return ldacm.get_coherence()\n",
    "\n",
    "\n",
    "x = range(1,15)\n",
    "y = [coherence(i) for i in x]"
   ]
  },
  {
   "cell_type": "code",
   "execution_count": null,
   "metadata": {},
   "outputs": [],
   "source": [
    "f, ax = plt.subplots(figsize=(7, 3))\n",
    "patch = ax.patch\n",
    "patch.set_color(\"white\")\n",
    "patch_f = f.patch\n",
    "patch_f.set_color('white')\n",
    "\n",
    "ax = plt.gca() # 获取当前的axes\n",
    "ax.spines['right'].set_color('black')\n",
    "ax.spines['top'].set_color('black')\n",
    "ax.spines['left'].set_color('black')\n",
    "ax.spines['bottom'].set_color('black')\n",
    "\n",
    "plt.plot(x,y,'o-',color = 'k',label=\"CNN-RLSTM\")\n",
    "plt.xlabel('主题数目', color='k')\n",
    "plt.ylabel('主题一致性值', color='k')\n",
    "\n",
    "plt.rcParams['font.family'] = ['SimSong'] \n",
    "matplotlib.rcParams['axes.unicode_minus']=False\n",
    "\n",
    "plt.title('主题一致性值变化情况', color='k', fontsize=13)\n",
    "plt.tick_params(axis='x',colors='k')\n",
    "plt.tick_params(axis='y',colors='k')\n",
    "x_major_locator=MultipleLocator(1)\n",
    "ax=plt.gca()\n",
    "#ax为两条坐标轴的实例\n",
    "ax.xaxis.set_major_locator(x_major_locator)\n",
    "ax.set_yticks([0.3, 0.4, 0.5])\n",
    "plt.show()"
   ]
  },
  {
   "attachments": {},
   "cell_type": "markdown",
   "metadata": {},
   "source": [
    "其中分类为1，2，3类时主题一致性均较高，为方便研究与描述，选择3类"
   ]
  },
  {
   "cell_type": "code",
   "execution_count": null,
   "metadata": {},
   "outputs": [],
   "source": [
    "model = lda.LDA(n_topics=3, n_iter=500, random_state=1)\n",
    "model.fit(X)"
   ]
  },
  {
   "cell_type": "code",
   "execution_count": null,
   "metadata": {},
   "outputs": [],
   "source": [
    "#节选部分分类结果进行输出\n",
    "doc_topic = model.doc_topic_\n",
    "print(\"shape: {}\".format(doc_topic.shape))  \n",
    "for n in range(100):  \n",
    "    topic_most_pr = doc_topic[n].argmax()  \n",
    "    print(u\"文档: {} 主题: {}\".format(n,topic_most_pr)) "
   ]
  },
  {
   "cell_type": "code",
   "execution_count": null,
   "metadata": {},
   "outputs": [],
   "source": [
    "word = vectorizer.get_feature_names_out()\n",
    "topic_word = model.topic_word_  \n",
    "for w in word:  \n",
    "    print(w,end=\" \")\n",
    "print('')\n",
    "\n",
    "n = 10\n",
    "for i, topic_dist in enumerate(topic_word):    \n",
    "    topic_words = np.array(word)[np.argsort(topic_dist)][:-(n+1):-1]    \n",
    "    print(u'*Topic {}\\n- {}'.format(i, ' '.join(topic_words)))"
   ]
  },
  {
   "cell_type": "code",
   "execution_count": null,
   "metadata": {},
   "outputs": [],
   "source": [
    "print(\"shape: {}\".format(topic_word.shape))  \n",
    "print(topic_word[:, :10])  \n",
    "for n in range(3):  \n",
    "    sum_pr = sum(topic_word[n,:])  \n",
    "    print(\"topic: {} sum: {}\".format(n,  sum_pr)) "
   ]
  },
  {
   "cell_type": "code",
   "execution_count": null,
   "metadata": {},
   "outputs": [],
   "source": [
    "f, ax= plt.subplots(10, 1, figsize=(10, 10), sharex=True)\n",
    "for i, k in enumerate([0,1,2,3,4,5,6,7,8,9]):\n",
    "    patch = ax[i].patch\n",
    "    patch.set_color(\"white\")\n",
    "    patch_f = f.patch\n",
    "    patch_f.set_color('white')\n",
    "\n",
    "    ax[i].spines['right'].set_color('black')\n",
    "    ax[i].spines['top'].set_color('black')\n",
    "    ax[i].spines['left'].set_color('black')\n",
    "    ax[i].spines['bottom'].set_color('black')\n",
    "\n",
    "    ax[i].stem(doc_topic[k,:], linefmt='r-',  \n",
    "               markerfmt='ro', basefmt='w-') \n",
    "    \n",
    "    ax[i].tick_params(axis='x',colors='k')\n",
    "    ax[i].tick_params(axis='y',colors='k')\n",
    "    \n",
    "    ax[i].set_xlim(-1, 3)      #三个主题\n",
    "    ax[i].set_ylim(0, 1.0)     #权重0-1之间\n",
    "    ax[i].set_ylabel(\"\", color='k')  \n",
    "    ax[i].set_title(\"文本 {}\".format(k+1), color='k')\n",
    "    \n",
    "ax[4].set_xlabel(\"主题类别\", color='k')\n",
    "plt.tight_layout()\n",
    "plt.savefig(\"result.png\")\n",
    "plt.show() "
   ]
  },
  {
   "cell_type": "code",
   "execution_count": null,
   "metadata": {},
   "outputs": [],
   "source": [
    "f, ax= plt.subplots(3, 1, figsize=(8,6), sharex=True) #三个主题\n",
    "for i, k in enumerate([0, 1, 2]):\n",
    "    patch = ax[i].patch\n",
    "    patch.set_color(\"white\")\n",
    "    patch_f = f.patch\n",
    "    patch_f.set_color('white')\n",
    "\n",
    "    ax[i].spines['right'].set_color('black')\n",
    "    ax[i].spines['top'].set_color('black')\n",
    "    ax[i].spines['left'].set_color('black')\n",
    "    ax[i].spines['bottom'].set_color('black')\n",
    "\n",
    "    ax[i].stem(topic_word[k,:], linefmt='b-',\n",
    "               markerfmt='bo', basefmt='w-')\n",
    "\n",
    "    ax[i].tick_params(axis='x',colors='k')\n",
    "    ax[i].tick_params(axis='y',colors='k')\n",
    "\n",
    "    ax[i].set_xlim(-1, 6336)\n",
    "    ax[i].set_ylim(0, 0.05)\n",
    "    ax[i].set_ylabel(\"词频\", color='k')\n",
    "    ax[i].set_title(\"主题 {}\".format(k+1), color='k')\n",
    "ax[1].set_xlabel(\"特征词序号\", color='k')\n",
    "plt.tight_layout()\n",
    "plt.savefig(\"result2.png\")\n",
    "plt.show() "
   ]
  },
  {
   "cell_type": "code",
   "execution_count": null,
   "metadata": {},
   "outputs": [],
   "source": [
    "data = pd.read_csv('./PublicOpinion.csv', index_col='Unnamed: 0')\n",
    "data['topic'] = [doc_topic[i].argmax() for i in range(len(data))]\n",
    "data.to_csv('./PublicOpinion_topic.csv', index=False)\n",
    "data.to_excel('./PublicOpinion_topic.xlsx', index=False)"
   ]
  }
 ],
 "metadata": {
  "kernelspec": {
   "display_name": "Python 3",
   "language": "python",
   "name": "python3"
  },
  "language_info": {
   "codemirror_mode": {
    "name": "ipython",
    "version": 3
   },
   "file_extension": ".py",
   "mimetype": "text/x-python",
   "name": "python",
   "nbconvert_exporter": "python",
   "pygments_lexer": "ipython3",
   "version": "3.10.7"
  },
  "orig_nbformat": 4
 },
 "nbformat": 4,
 "nbformat_minor": 2
}
